{
 "cells": [
  {
   "cell_type": "code",
   "execution_count": 1,
   "metadata": {},
   "outputs": [],
   "source": [
    "#################################################\n",
    "#Prac 06 file 3 - COMP1050\n",
    "#################################################\n",
    "\n",
    "#Scipy for Sensor Data Filtering and matplotlib For Sensor Data plotting\n",
    "\n",
    "\n",
    "# Go down to the bottom of this file. We have 2 team \"challenges\" for you to complete\n",
    "\n",
    "# In this file we are getting you to use Python to complete a combination of filtering and plotting\n",
    "#for sensor data in the practical project\n",
    "\n",
    "\n",
    "\n"
   ]
  },
  {
   "cell_type": "code",
   "execution_count": 3,
   "metadata": {},
   "outputs": [
    {
     "name": "stdout",
     "output_type": "stream",
     "text": [
      "The dataset contains 245576 rows.\n"
     ]
    }
   ],
   "source": [
    "# Based on the given sample data, \n",
    "# import packages\n",
    "import numpy as np\n",
    "import pandas as pd\n",
    "import math\n",
    "\n",
    "#code snippet 1\n",
    "df = pd.read_csv('dataset_1.txt', sep=',', header=None)  # use pandas to read sensor data file\n",
    "print('The dataset contains %d rows.' % len(df)) "
   ]
  },
  {
   "cell_type": "code",
   "execution_count": 4,
   "metadata": {},
   "outputs": [],
   "source": [
    "import matplotlib.pyplot as plt\n",
    "%matplotlib inline\n",
    "df_sitting = df[df[24] == 1].values \n",
    "\n"
   ]
  },
  {
   "cell_type": "code",
   "execution_count": 5,
   "metadata": {},
   "outputs": [
    {
     "data": {
      "text/plain": [
       "[<matplotlib.lines.Line2D at 0x11c248780>,\n",
       " <matplotlib.lines.Line2D at 0x11c2488d0>,\n",
       " <matplotlib.lines.Line2D at 0x11c248a20>]"
      ]
     },
     "execution_count": 5,
     "metadata": {},
     "output_type": "execute_result"
    },
    {
     "data": {
      "image/png": "[encoded data removed]",
      "text/plain": [
       "<Figure size 432x288 with 1 Axes>"
      ]
     },
     "metadata": {
      "needs_background": "light"
     },
     "output_type": "display_data"
    }
   ],
   "source": [
    "# Sensor data filtering. Scipy libary\n",
    "#code snippet 4\n",
    "from scipy import signal\n",
    "\n",
    "b, a = signal.butter(4, 0.04, 'lowpass', analog=False)\n",
    "for i in range(3):\n",
    "    df_sitting[:,i] = signal.lfilter(b, a, df_sitting[:, i])\n",
    "plt.plot(df_sitting[500:1500, 0:3])\n"
   ]
  },
  {
   "cell_type": "code",
   "execution_count": 3,
   "metadata": {},
   "outputs": [],
   "source": [
    "#################################################\n",
    "#Challenge - 1\n",
    "#################################################\n",
    "#TODO:\n",
    "#1. Based on the code snippet 4, add your code to \n",
    "# clean all the sensor data for activities in the given dataset#Hint: you might need to add another outside loop\n",
    "\n",
    "\n",
    "#TODO: add your other code in here .   <<<-------------\n"
   ]
  },
  {
   "cell_type": "code",
   "execution_count": 2,
   "metadata": {},
   "outputs": [],
   "source": [
    "#################################################\n",
    "#Challenge - 2\n",
    "#################################################\n",
    "#TODO:\n",
    "#1. Based on the challenge 1, add your code to \n",
    "#  plot the first sensor data in the first sensor device for the Washing dishes activity \n",
    "# to check whether your solution for Challenge 1 is working\n",
    "\n",
    "#TODO: add your other code in here .   <<<-------------\n",
    "\n"
   ]
  },
  {
   "cell_type": "code",
   "execution_count": null,
   "metadata": {},
   "outputs": [],
   "source": []
  }
 ],
 "metadata": {
  "file_extension": ".py",
  "kernelspec": {
   "display_name": "Python 3",
   "language": "python",
   "name": "python3"
  },
  "language_info": {
   "codemirror_mode": {
    "name": "ipython",
    "version": 3
   },
   "file_extension": ".py",
   "mimetype": "text/x-python",
   "name": "python",
   "nbconvert_exporter": "python",
   "pygments_lexer": "ipython3",
   "version": "3.7.3"
  },
  "mimetype": "text/x-python",
  "name": "python",
  "npconvert_exporter": "python",
  "pygments_lexer": "ipython3",
  "version": 3
 },
 "nbformat": 4,
 "nbformat_minor": 2
}
