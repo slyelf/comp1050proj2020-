{
 "nbformat": 4,
 "nbformat_minor": 2,
 "metadata": {
  "language_info": {
   "name": "python",
   "codemirror_mode": {
    "name": "ipython",
    "version": 3
   },
   "version": "3.7.4-final"
  },
  "orig_nbformat": 2,
  "file_extension": ".py",
  "mimetype": "text/x-python",
  "name": "python",
  "npconvert_exporter": "python",
  "pygments_lexer": "ipython3",
  "version": 3,
  "kernelspec": {
   "name": "python3",
   "display_name": "Python 3"
  }
 },
 "cells": [
  {
   "cell_type": "code",
   "execution_count": null,
   "metadata": {},
   "outputs": [],
   "source": [
    "\n",
    "#################################################\n",
    "# That is it for this week, get your prac work marked off first!\n",
    "#################################################\n",
    "\n",
    "# get your prac work marked off first! but, if you're interested... read on after your prac work has been assessed.\n",
    "\n",
    "# Below is a little taste of things to come over future weeks...\n",
    "\n",
    "#the first code block is a function that reads some data from a file and plots it.\n",
    "#The second and third blocks call the function in this block... bit give it a file name.\n",
    "\n",
    "import numpy as np \n",
    "import pandas as pd \n",
    "import matplotlib.pyplot as plt \n",
    "import math\n",
    "\n",
    "\n",
    "# create a function to call later\n",
    "def myFunctionToPlotTheData(filename, graph_description):\n",
    "    # read in the file with all the values\n",
    "    movement_data = pd.read_csv(filename, sep=',', header=None) \n",
    "    # get the values\n",
    "    the_data = movement_data.values\n",
    "    #this is just setting some diagram sizing\n",
    "    fig, axis = plt.subplots(2,4, figsize=(30, 12), dpi= 200, facecolor='w', edgecolor='k') \n",
    "    #give the graph a name\n",
    "    fig.suptitle('Movement Data for Sensors: Left to right... Wrist, Chest, Hip, Ankle\\nUpper Graphs: Accelerometer, Lower Graphs: Gyroscope\\n' + graph_description)\n",
    "    axis[0][0].plot(the_data[:2000, 0:3])      #wrist accelerometer data\n",
    "    axis[1][0].plot(the_data[:2000, 3:6])      #wrist gyroscope data\n",
    "\n",
    "    axis[0][1].plot(the_data[:2000, 6:9])      #chest accelerometer data\n",
    "    axis[1][1].plot(the_data[:2000, 9:12])     #chest gyroscope data\n",
    "\n",
    "    axis[0][2].plot(the_data[:2000, 12:15])    #hip accelerometer data\n",
    "    axis[1][2].plot(the_data[:2000, 15:18])    #hip gyroscope data\n",
    "\n",
    "    axis[0][3].plot(the_data[:2000, 18:21])    #ankle accelerometer data\n",
    "    axis[1][3].plot(the_data[:2000, 21:24])    #ankle gyroscope data\n",
    "\n",
    "    plt.show()\n",
    "\n",
    ""
   ]
  },
  {
   "cell_type": "code",
   "execution_count": null,
   "metadata": {},
   "outputs": [],
   "source": [
    "\n",
    "import numpy as np \n",
    "import pandas as pd \n",
    "import matplotlib.pyplot as plt \n",
    "import math\n",
    "\n",
    "#when you run this block... give it a minute... it is doing a lot of processing!\n",
    "\n",
    "#call the function above\n",
    "myFunctionToPlotTheData('extract_01.txt', \"This is what it looks like when someone goes to sit down down\")"
   ]
  },
  {
   "cell_type": "code",
   "execution_count": null,
   "metadata": {},
   "outputs": [],
   "source": [
    "import numpy as np \n",
    "import pandas as pd \n",
    "import matplotlib.pyplot as plt \n",
    "import math\n",
    "\n",
    "#when you run this block... give it a minute... it is doing a lot of processing!\n",
    "\n",
    "#call the function above\n",
    "myFunctionToPlotTheData('extract_02.txt', \"This is what it looks like when someone goes to lie down down\")"
   ]
  },
  {
   "cell_type": "code",
   "execution_count": null,
   "metadata": {},
   "outputs": [],
   "source": []
  }
 ]
}