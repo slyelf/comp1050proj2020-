{
 "cells": [
  {
   "cell_type": "code",
   "execution_count": null,
   "metadata": {},
   "outputs": [],
   "source": [
    "#################################################\n",
    "#Prac 06 file 1 - COMP1050\n",
    "#################################################\n",
    "# Go down to the bottom of this file. We have 2 team \"challenges\" for you to complete\n",
    "\n",
    "# In this file we are getting you to use Python to complete basic plotting for sensor data in the practical project\n",
    "\n",
    "\n"
   ]
  },
  {
   "cell_type": "code",
   "execution_count": 3,
   "metadata": {},
   "outputs": [
    {
     "name": "stdout",
     "output_type": "stream",
     "text": [
      "The dataset contains 245576 rows.\n"
     ]
    },
    {
     "data": {
      "text/html": [
       "<div>\n",
       "<style scoped>\n",
       "    .dataframe tbody tr th:only-of-type {\n",
       "        vertical-align: middle;\n",
       "    }\n",
       "\n",
       "    .dataframe tbody tr th {\n",
       "        vertical-align: top;\n",
       "    }\n",
       "\n",
       "    .dataframe thead th {\n",
       "        text-align: right;\n",
       "    }\n",
       "</style>\n",
       "<table border=\"1\" class=\"dataframe\">\n",
       "  <thead>\n",
       "    <tr style=\"text-align: right;\">\n",
       "      <th></th>\n",
       "      <th>0</th>\n",
       "      <th>1</th>\n",
       "      <th>2</th>\n",
       "      <th>3</th>\n",
       "      <th>4</th>\n",
       "      <th>5</th>\n",
       "      <th>6</th>\n",
       "      <th>7</th>\n",
       "      <th>8</th>\n",
       "      <th>9</th>\n",
       "      <th>...</th>\n",
       "      <th>15</th>\n",
       "      <th>16</th>\n",
       "      <th>17</th>\n",
       "      <th>18</th>\n",
       "      <th>19</th>\n",
       "      <th>20</th>\n",
       "      <th>21</th>\n",
       "      <th>22</th>\n",
       "      <th>23</th>\n",
       "      <th>24</th>\n",
       "    </tr>\n",
       "  </thead>\n",
       "  <tbody>\n",
       "    <tr>\n",
       "      <th>0</th>\n",
       "      <td>0.092478</td>\n",
       "      <td>0.14400</td>\n",
       "      <td>-0.009739</td>\n",
       "      <td>231.24</td>\n",
       "      <td>42.410</td>\n",
       "      <td>181.19</td>\n",
       "      <td>-0.13840</td>\n",
       "      <td>-0.85828</td>\n",
       "      <td>0.101680</td>\n",
       "      <td>32.813</td>\n",
       "      <td>...</td>\n",
       "      <td>-6.607700</td>\n",
       "      <td>-15.092</td>\n",
       "      <td>38.214</td>\n",
       "      <td>-0.90671</td>\n",
       "      <td>-0.43698</td>\n",
       "      <td>-0.52616</td>\n",
       "      <td>-91.394</td>\n",
       "      <td>33.158</td>\n",
       "      <td>4.2875</td>\n",
       "      <td>1</td>\n",
       "    </tr>\n",
       "    <tr>\n",
       "      <th>1</th>\n",
       "      <td>0.057310</td>\n",
       "      <td>0.16003</td>\n",
       "      <td>-0.009739</td>\n",
       "      <td>238.56</td>\n",
       "      <td>51.564</td>\n",
       "      <td>174.59</td>\n",
       "      <td>-0.15410</td>\n",
       "      <td>-0.86636</td>\n",
       "      <td>0.069517</td>\n",
       "      <td>46.727</td>\n",
       "      <td>...</td>\n",
       "      <td>-5.143100</td>\n",
       "      <td>-18.021</td>\n",
       "      <td>37.482</td>\n",
       "      <td>-0.94272</td>\n",
       "      <td>-0.32132</td>\n",
       "      <td>-0.49881</td>\n",
       "      <td>-82.606</td>\n",
       "      <td>36.087</td>\n",
       "      <td>-1.5711</td>\n",
       "      <td>1</td>\n",
       "    </tr>\n",
       "    <tr>\n",
       "      <th>2</th>\n",
       "      <td>0.022143</td>\n",
       "      <td>0.18408</td>\n",
       "      <td>-0.038329</td>\n",
       "      <td>243.69</td>\n",
       "      <td>59.620</td>\n",
       "      <td>166.17</td>\n",
       "      <td>-0.15410</td>\n",
       "      <td>-0.89867</td>\n",
       "      <td>0.053434</td>\n",
       "      <td>57.346</td>\n",
       "      <td>...</td>\n",
       "      <td>-3.678400</td>\n",
       "      <td>-20.584</td>\n",
       "      <td>37.116</td>\n",
       "      <td>-0.92271</td>\n",
       "      <td>-0.21722</td>\n",
       "      <td>-0.46756</td>\n",
       "      <td>-75.283</td>\n",
       "      <td>37.552</td>\n",
       "      <td>-5.9651</td>\n",
       "      <td>1</td>\n",
       "    </tr>\n",
       "    <tr>\n",
       "      <th>3</th>\n",
       "      <td>-0.001302</td>\n",
       "      <td>0.20412</td>\n",
       "      <td>-0.030160</td>\n",
       "      <td>246.62</td>\n",
       "      <td>65.112</td>\n",
       "      <td>156.29</td>\n",
       "      <td>-0.16981</td>\n",
       "      <td>-0.90675</td>\n",
       "      <td>0.049414</td>\n",
       "      <td>65.768</td>\n",
       "      <td>...</td>\n",
       "      <td>-0.749080</td>\n",
       "      <td>-23.514</td>\n",
       "      <td>35.285</td>\n",
       "      <td>-0.89070</td>\n",
       "      <td>-0.13626</td>\n",
       "      <td>-0.45193</td>\n",
       "      <td>-69.424</td>\n",
       "      <td>37.552</td>\n",
       "      <td>-8.8945</td>\n",
       "      <td>1</td>\n",
       "    </tr>\n",
       "    <tr>\n",
       "      <th>4</th>\n",
       "      <td>-0.032562</td>\n",
       "      <td>0.20813</td>\n",
       "      <td>-0.026076</td>\n",
       "      <td>250.64</td>\n",
       "      <td>70.605</td>\n",
       "      <td>145.30</td>\n",
       "      <td>-0.16981</td>\n",
       "      <td>-0.90675</td>\n",
       "      <td>0.081579</td>\n",
       "      <td>69.063</td>\n",
       "      <td>...</td>\n",
       "      <td>-0.016749</td>\n",
       "      <td>-24.246</td>\n",
       "      <td>33.088</td>\n",
       "      <td>-0.89870</td>\n",
       "      <td>-0.10927</td>\n",
       "      <td>-0.48709</td>\n",
       "      <td>-63.566</td>\n",
       "      <td>39.017</td>\n",
       "      <td>-10.3590</td>\n",
       "      <td>1</td>\n",
       "    </tr>\n",
       "  </tbody>\n",
       "</table>\n",
       "<p>5 rows × 25 columns</p>\n",
       "</div>"
      ],
      "text/plain": [
       "         0        1         2       3       4       5        6        7   \\\n",
       "0  0.092478  0.14400 -0.009739  231.24  42.410  181.19 -0.13840 -0.85828   \n",
       "1  0.057310  0.16003 -0.009739  238.56  51.564  174.59 -0.15410 -0.86636   \n",
       "2  0.022143  0.18408 -0.038329  243.69  59.620  166.17 -0.15410 -0.89867   \n",
       "3 -0.001302  0.20412 -0.030160  246.62  65.112  156.29 -0.16981 -0.90675   \n",
       "4 -0.032562  0.20813 -0.026076  250.64  70.605  145.30 -0.16981 -0.90675   \n",
       "\n",
       "         8       9   ...        15      16      17       18       19       20  \\\n",
       "0  0.101680  32.813  ... -6.607700 -15.092  38.214 -0.90671 -0.43698 -0.52616   \n",
       "1  0.069517  46.727  ... -5.143100 -18.021  37.482 -0.94272 -0.32132 -0.49881   \n",
       "2  0.053434  57.346  ... -3.678400 -20.584  37.116 -0.92271 -0.21722 -0.46756   \n",
       "3  0.049414  65.768  ... -0.749080 -23.514  35.285 -0.89070 -0.13626 -0.45193   \n",
       "4  0.081579  69.063  ... -0.016749 -24.246  33.088 -0.89870 -0.10927 -0.48709   \n",
       "\n",
       "       21      22       23  24  \n",
       "0 -91.394  33.158   4.2875   1  \n",
       "1 -82.606  36.087  -1.5711   1  \n",
       "2 -75.283  37.552  -5.9651   1  \n",
       "3 -69.424  37.552  -8.8945   1  \n",
       "4 -63.566  39.017 -10.3590   1  \n",
       "\n",
       "[5 rows x 25 columns]"
      ]
     },
     "execution_count": 3,
     "metadata": {},
     "output_type": "execute_result"
    }
   ],
   "source": [
    "\n",
    "# Based on the given sample data, \n",
    "# import packages\n",
    "import numpy as np\n",
    "import pandas as pd\n",
    "import math\n",
    "\n",
    "#code snippet 1\n",
    "df = pd.read_csv('dataset_1.txt', sep=',', header=None)  # use pandas to read sensor data file\n",
    "print('The dataset contains %d rows.' % len(df)) \n",
    "df.head() \n",
    "\n"
   ]
  },
  {
   "cell_type": "code",
   "execution_count": null,
   "metadata": {},
   "outputs": [],
   "source": [
    "\n",
    "\n",
    "\n",
    "#blank space\n"
   ]
  },
  {
   "cell_type": "code",
   "execution_count": 6,
   "metadata": {},
   "outputs": [
    {
     "data": {
      "text/plain": [
       "[<matplotlib.lines.Line2D at 0x11e8c7f98>]"
      ]
     },
     "execution_count": 6,
     "metadata": {},
     "output_type": "execute_result"
    },
    {
     "data": {
      "image/png": "[encoded data removed]",
      "text/plain": [
       "<Figure size 432x288 with 1 Axes>"
      ]
     },
     "metadata": {
      "needs_background": "light"
     },
     "output_type": "display_data"
    }
   ],
   "source": [
    "\n",
    "#code snippet 2\n",
    "import matplotlib.pyplot as plt\n",
    "%matplotlib inline\n",
    "df_sitting = df[df[24] == 1].values \n",
    "plt.plot(df_sitting[500:1500, 0]) \n",
    "\n",
    "\n"
   ]
  },
  {
   "cell_type": "code",
   "execution_count": null,
   "metadata": {},
   "outputs": [],
   "source": [
    "#blank space\n",
    "\n"
   ]
  },
  {
   "cell_type": "code",
   "execution_count": 16,
   "metadata": {},
   "outputs": [
    {
     "data": {
      "text/plain": [
       "[<matplotlib.lines.Line2D at 0x121092128>,\n",
       " <matplotlib.lines.Line2D at 0x121092278>,\n",
       " <matplotlib.lines.Line2D at 0x1210923c8>]"
      ]
     },
     "execution_count": 16,
     "metadata": {},
     "output_type": "execute_result"
    },
    {
     "data": {
      "image/png": "[encoded data removed]",
      "text/plain": [
       "<Figure size 432x288 with 1 Axes>"
      ]
     },
     "metadata": {
      "needs_background": "light"
     },
     "output_type": "display_data"
    }
   ],
   "source": [
    "#code snippet 3\n",
    "plt.plot(df_sitting[500:1500, 0:3]) \n",
    "\n"
   ]
  },
  {
   "cell_type": "code",
   "execution_count": 1,
   "metadata": {},
   "outputs": [],
   "source": [
    "#################################################\n",
    "#Challenge  - 1\n",
    "#################################################\n",
    "#TODO:\n",
    "#1. interpret the results displayed from code snippet 1\n",
    "#2. interpret the results displayed from code snippet 2\n",
    "#3. interpret the results displayed from code snippet 3\n",
    "#4. Based on the code snippet 2 and 3, add your code to plot the first sensor in the first sensor device in the given dataset \n",
    "#for the Washing dishes activity. \n",
    "\n",
    "\n",
    "#TODO: add your other code in here .   <<<-------------\n",
    "\n",
    "\n",
    "#HINT: check the first reference provided in the practical document to find the dataset resource, answers shall be all there\n",
    "\n",
    "\n",
    "\n",
    "\n",
    "#in the upcoming weeks' practical, we might have two or more challenges per practical file (for one student). \n",
    "#So if you have finished this file more than 30 mins, you are too slow and need to be more efficient (preparing more by understanding more from the \n",
    "#dataset used in the practical project https://www.mad.tf.fau.de/research/activitynet/daliac-daily-life-activities/)\n",
    "\n",
    "\n"
   ]
  },
  {
   "cell_type": "code",
   "execution_count": 2,
   "metadata": {},
   "outputs": [],
   "source": [
    "#################################################\n",
    "#Challenge  - 2\n",
    "#################################################\n",
    "#1. can you plot the second sensor in the first sensor device in the given dataset \n",
    "#for the Washing dishes activity. \n",
    "\n",
    "#TODO: add your other code in here .   <<<-------------\n",
    "\n"
   ]
  },
  {
   "cell_type": "code",
   "execution_count": null,
   "metadata": {},
   "outputs": [],
   "source": []
  }
 ],
 "metadata": {
  "file_extension": ".py",
  "kernelspec": {
   "display_name": "Python 3",
   "language": "python",
   "name": "python3"
  },
  "language_info": {
   "codemirror_mode": {
    "name": "ipython",
    "version": 3
   },
   "file_extension": ".py",
   "mimetype": "text/x-python",
   "name": "python",
   "nbconvert_exporter": "python",
   "pygments_lexer": "ipython3",
   "version": "3.7.3"
  },
  "mimetype": "text/x-python",
  "name": "python",
  "npconvert_exporter": "python",
  "pygments_lexer": "ipython3",
  "version": 3
 },
 "nbformat": 4,
 "nbformat_minor": 2
}
