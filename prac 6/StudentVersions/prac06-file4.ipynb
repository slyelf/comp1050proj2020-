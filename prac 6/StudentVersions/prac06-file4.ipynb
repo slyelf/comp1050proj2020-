{
 "cells": [
  {
   "cell_type": "code",
   "execution_count": 1,
   "metadata": {},
   "outputs": [],
   "source": [
    "#################################################\n",
    "#Prac 06 file 4 - COMP1050\n",
    "#################################################\n",
    "\n",
    "#Numpy\n",
    "#For time series data, we should convert the raw dataset to feature dataset, \n",
    "#where each data sample contains features extracted from a period of time. \n",
    "#For example, in the previous files we plot the period of time from 500 to 1500. \n",
    "#Now we can consider it as a segmentation and extract statistic features from it. \n",
    "#In this file we extract min value and max value of accelerometer data of wrist sensor as features. \n",
    "#In data visualization we could find that for different activities the sensor signal data values are \n",
    "#in different ranges. \n",
    "#Therefore, we could think that we could recognize different activities by the range of data, \n",
    "#which means minimum and maximum values of data may be useful features to recognize activities.\n",
    "\n",
    "# Go down to the bottom of this file. We have 2 team \"challenges\" for you to complete\n",
    "\n",
    "# In this file we are getting you to use Python to complete feature selection for sensor data in the practical project\n",
    "\n"
   ]
  },
  {
   "cell_type": "code",
   "execution_count": 2,
   "metadata": {},
   "outputs": [],
   "source": [
    "#Some Sample \n",
    "\n",
    "# import packages\n",
    "import numpy as np\n",
    "import pandas as pd\n",
    "import math\n",
    "\n"
   ]
  },
  {
   "cell_type": "code",
   "execution_count": 3,
   "metadata": {},
   "outputs": [
    {
     "name": "stdout",
     "output_type": "stream",
     "text": [
      "The dataset contains 245576 rows.\n"
     ]
    }
   ],
   "source": [
    "\n",
    "df = pd.read_csv('dataset_1.txt', sep=',', header=None)  # use pandas to read sensor data file\n",
    "print('The dataset contains %d rows.' % len(df))\n",
    "import matplotlib.pyplot as plt\n",
    "%matplotlib inline\n",
    "df_sitting = df[df[24] == 1].values "
   ]
  },
  {
   "cell_type": "code",
   "execution_count": 4,
   "metadata": {},
   "outputs": [
    {
     "name": "stdout",
     "output_type": "stream",
     "text": [
      "[-0.23965999999999998, -0.18105, 0.91756, 0.98169, 0.22305999999999998, 0.28841, 1]\n"
     ]
    }
   ],
   "source": [
    "#code snippet 5\n",
    "seg = df_sitting[500:1500, 0:]\n",
    "a1_min = np.min(seg[:, 0])\n",
    "a1_max = np.max(seg[:, 0])\n",
    "a2_min = np.min(seg[:, 1])\n",
    "a2_max = np.max(seg[:, 1])\n",
    "a3_min = np.min(seg[:, 2])\n",
    "a3_max = np.max(seg[:, 2])\n",
    "print([a1_min, a1_max, a2_min, a2_max, a3_min, a3_max, int(seg[0, 24])])\n"
   ]
  },
  {
   "cell_type": "code",
   "execution_count": 7,
   "metadata": {},
   "outputs": [
    {
     "name": "stdout",
     "output_type": "stream",
     "text": [
      "[0.22305999999999998, 0.28841]\n"
     ]
    }
   ],
   "source": [
    "#################################################\n",
    "#Challenge - 1\n",
    "#################################################\n",
    "#TODO:\n",
    "#1. Based on the code snippet 5, add your code to \n",
    "# get min and max feature for the first sensor in the second sensor device for sitting\n",
    "\n",
    "seg = df_sitting[500:1500, 0:]\n",
    "chestAccel_min = np.min(seg[:, 2])\n",
    "chestAccel_max = np.max(seg[:, 2])\n",
    "print([chestAccel_min, chestAccel_max])\n",
    "\n",
    "#TODO: add your other code in here .   <<<-------------\n"
   ]
  },
  {
   "cell_type": "code",
   "execution_count": 17,
   "metadata": {},
   "outputs": [
    {
     "name": "stdout",
     "output_type": "stream",
     "text": [
      "Sensor 0 - Min: -0.23965999999999998, Max: -0.18105\n",
      "Sensor 1 - Min: 0.91756, Max: 0.98169\n",
      "Sensor 2 - Min: 0.22305999999999998, Max: 0.28841\n",
      "Sensor 3 - Min: -0.91161, Max: 7.144\n",
      "Sensor 4 - Min: -1.8959, Max: 1.3995\n",
      "Sensor 5 - Min: -1.8981, Max: 2.4959\n",
      "Sensor 6 - Min: -0.16588, Max: -0.079496\n",
      "Sensor 7 - Min: -1.0077, Max: -0.8946299999999999\n"
     ]
    }
   ],
   "source": [
    "#################################################\n",
    "#Challenge - 2\n",
    "#################################################\n",
    "#TODO:\n",
    "#2. can you print out the min and max feature for every single sensor for the given dataset?\n",
    "#in the format of Sensor X - Min: xxx, Max: xxx\n",
    "#for instance: Sensor 3 - Min: -0.91161, Max: 7.144\n",
    "\n",
    "seg = df_sitting[500:1500, 0:]\n",
    "\n",
    "def findMinMax(Activity):\n",
    "    seg = Activity[500:1500, 0:]\n",
    "    for i in range(8):\n",
    "        minTest = np.min(seg[:, i])\n",
    "        maxTest = np.max(seg[:, i])\n",
    "        print(\"Sensor \" + str(i) + \" - Min: \" + str(minTest) + \", Max: \" + str(maxTest))\n",
    "    \n",
    "findMinMax(df_sitting)\n",
    "\n",
    "#TODO: add your other code in here .   <<<-------------\n",
    "#Hint: use loop\n"
   ]
  },
  {
   "cell_type": "code",
   "execution_count": null,
   "metadata": {},
   "outputs": [],
   "source": []
  },
  {
   "cell_type": "code",
   "execution_count": null,
   "metadata": {},
   "outputs": [],
   "source": []
  }
 ],
 "metadata": {
  "file_extension": ".py",
  "kernelspec": {
   "display_name": "Python 3",
   "language": "python",
   "name": "python3"
  },
  "language_info": {
   "codemirror_mode": {
    "name": "ipython",
    "version": 3
   },
   "file_extension": ".py",
   "mimetype": "text/x-python",
   "name": "python",
   "nbconvert_exporter": "python",
   "pygments_lexer": "ipython3",
   "version": "3.7.6"
  },
  "mimetype": "text/x-python",
  "name": "python",
  "npconvert_exporter": "python",
  "pygments_lexer": "ipython3",
  "version": 3
 },
 "nbformat": 4,
 "nbformat_minor": 2
}
