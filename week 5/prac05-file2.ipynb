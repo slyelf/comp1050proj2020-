{
 "nbformat": 4,
 "nbformat_minor": 2,
 "metadata": {
  "language_info": {
   "name": "python",
   "codemirror_mode": {
    "name": "ipython",
    "version": 3
   },
   "version": "3.7.4-final"
  },
  "orig_nbformat": 2,
  "file_extension": ".py",
  "mimetype": "text/x-python",
  "name": "python",
  "npconvert_exporter": "python",
  "pygments_lexer": "ipython3",
  "version": 3,
  "kernelspec": {
   "name": "python3",
   "display_name": "Python 3"
  }
 },
 "cells": [
  {
   "cell_type": "code",
   "execution_count": null,
   "metadata": {},
   "outputs": [],
   "source": [
    "#################################################\n",
    "#Prac 05 file 2 - COMP1050\n",
    "#################################################\n",
    "\n",
    "# Importing libraries\n",
    "# Using Numpy\n",
    "# Using Pandas\n",
    "# Using MatPlotLib\n",
    "\n",
    "\n",
    "# There are some samples below. If you want to skip to the 3 challenges, they are at the bottom...\n",
    "\n"
   ]
  },
  {
   "cell_type": "code",
   "execution_count": null,
   "metadata": {},
   "outputs": [],
   "source": [
    "#Some Sample Numpy Functions\n",
    "\n",
    "import numpy as np \n",
    "x = np.zeros(20)\n",
    "print(x)\n",
    "\n",
    "x = np.zeros(20, dtype=int)\n",
    "print(x)\n",
    ""
   ]
  },
  {
   "cell_type": "code",
   "execution_count": null,
   "metadata": {},
   "outputs": [],
   "source": [
    "#Some More Sample Numpy Functions\n",
    "x = np.ones(20)\n",
    "print(x)\n",
    "\n",
    "x = np.ones(20, dtype=int)\n",
    "print(x)\n",
    ""
   ]
  },
  {
   "cell_type": "code",
   "execution_count": null,
   "metadata": {},
   "outputs": [],
   "source": [
    "#Some More Sample Numpy Functions\n",
    "x = np.arange(20)\n",
    "print(x)\n",
    "\n",
    "y = np.flip(x,0)\n",
    "print(y)\n",
    ""
   ]
  },
  {
   "cell_type": "code",
   "execution_count": null,
   "metadata": {},
   "outputs": [],
   "source": [
    "#Some More Sample Numpy Functions\n",
    "x = np.arange(20)\n",
    "print(x)\n",
    "\n",
    "print(\"and now to split this array up...\")\n",
    "\n",
    "x.shape = (4,5) #rearrange into 4 arrays of 5 items\n",
    "print(x)\n",
    ""
   ]
  },
  {
   "cell_type": "code",
   "execution_count": null,
   "metadata": {},
   "outputs": [],
   "source": [
    "#Some More Sample Numpy Functions\n",
    "x = np.arange(20)\n",
    "x.shape = (4,5) #rearrange into 4 arrays of 5 items\n",
    "# now reverse the sublists\n",
    "y = np.flip(x,1) # the 1 here means to flip the subllists rather than the lists\n",
    "print(y)"
   ]
  },
  {
   "cell_type": "code",
   "execution_count": null,
   "metadata": {},
   "outputs": [],
   "source": [
    "# Some More Sample Numpy Functions\n",
    "data = np.arange(50)\n",
    "data.shape = (25,2)\n",
    "print(data)"
   ]
  },
  {
   "cell_type": "code",
   "execution_count": null,
   "metadata": {},
   "outputs": [],
   "source": [
    "# Now for something tricky\n",
    "data = np.arange(1, 20, 2) #remember: (start, stop, step)\n",
    "print(data)"
   ]
  },
  {
   "cell_type": "code",
   "execution_count": null,
   "metadata": {},
   "outputs": [],
   "source": [
    "# Now for something else that is tricky\n",
    "data = np.arange(20, 1, -2) #remember: (start, stop, step)\n",
    "print(data)"
   ]
  },
  {
   "cell_type": "code",
   "execution_count": null,
   "metadata": {},
   "outputs": [],
   "source": [
    "# Not just with integers...\n",
    "# Now for something tricky\n",
    "data = np.arange(0, 3, 0.1)         #give me an array with numbers from 0 up to 3... go up by 0.1 at a time\n",
    "squared_data = np.zeros(data.size)  #give me another arry of the same size, but with all zeros for now\n",
    "\n",
    "#there are othewr ways to do this in Python\n",
    "for index in range(data.size): #go through the data array, square the numebr and save the result in the same spon in squared_data\n",
    "    squared_data[index] = math.pow(data[index],2) \n",
    "\n",
    "print(data)\n",
    "print(squared_data)\n",
    "\n",
    "combined_data = np.column_stack((data, squared_data))\n",
    "\n",
    "print(combined_data)\n",
    "\n"
   ]
  },
  {
   "cell_type": "code",
   "execution_count": null,
   "metadata": {},
   "outputs": [],
   "source": [
    "plt.plot(combined_data)\n",
    "plt.show()"
   ]
  },
  {
   "cell_type": "code",
   "execution_count": null,
   "metadata": {},
   "outputs": [],
   "source": [
    "# Let's plot some data points now...\n",
    "import numpy as np \n",
    "import matplotlib.pyplot as plt \n",
    "import math\n",
    "\n",
    "data = np.arange(50)\n",
    "plt.plot(data) #take the data in the list and plot it on a line\n",
    "plt.show()"
   ]
  },
  {
   "cell_type": "code",
   "execution_count": null,
   "metadata": {},
   "outputs": [],
   "source": [
    "# Let's plot some data points now...\n",
    "import numpy as np \n",
    "import matplotlib.pyplot as plt \n",
    "import math\n",
    "\n",
    "#What lines are actually being created from the data? Is it the rows or the columns?\n",
    "\n",
    "data = np.arange(50)\n",
    "print(data)\n",
    "\n",
    "data.shape = (10,5)\n",
    "print(data)\n",
    "\n",
    "plt.plot(data)\n",
    "plt.show()"
   ]
  },
  {
   "cell_type": "code",
   "execution_count": null,
   "metadata": {},
   "outputs": [],
   "source": [
    "# What is happening here with the line?\n",
    "plt.plot( [0,0,1,1,1,0,1,0,1,1,1,2,2,1,1] )\n",
    "plt.show()\n"
   ]
  },
  {
   "cell_type": "code",
   "execution_count": null,
   "metadata": {},
   "outputs": [],
   "source": [
    "#################################################\n",
    "#Challenge 1\n",
    "#################################################\n",
    "import numpy as np \n",
    "import matplotlib.pyplot as plt \n",
    "import math\n",
    "\n",
    "# TODO: Create a plot line for the values [100, 99, 97, 94, 89, 83, 76, 68, 59, 49]\n"
   ]
  },
  {
   "cell_type": "code",
   "execution_count": null,
   "metadata": {},
   "outputs": [],
   "source": [
    "#################################################\n",
    "#Challenge 2\n",
    "#################################################\n",
    "import numpy as np \n",
    "import matplotlib.pyplot as plt \n",
    "import math\n",
    "\n",
    "# TODO: Create a plot line using a list of that that has all the even numbers between 50 and 100.\n",
    "\n"
   ]
  },
  {
   "cell_type": "code",
   "execution_count": null,
   "metadata": {},
   "outputs": [],
   "source": [
    "#################################################\n",
    "#Challenge 3\n",
    "#################################################\n",
    "import numpy as np \n",
    "import matplotlib.pyplot as plt \n",
    "import math\n",
    "\n",
    "# TODO: Create a plot showing 2 lines from 0 to 50\n",
    "# the first line should have the values for y = x\n",
    "# the second line should have the values for y = x^2\n",
    "\n"
   ]
  }
 ]
}