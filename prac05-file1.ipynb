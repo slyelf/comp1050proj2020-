{
 "nbformat": 4,
 "nbformat_minor": 2,
 "metadata": {
  "language_info": {
   "name": "python",
   "codemirror_mode": {
    "name": "ipython",
    "version": 3
   },
   "version": "3.7.4-final"
  },
  "orig_nbformat": 2,
  "file_extension": ".py",
  "mimetype": "text/x-python",
  "name": "python",
  "npconvert_exporter": "python",
  "pygments_lexer": "ipython3",
  "version": 3,
  "kernelspec": {
   "name": "python3",
   "display_name": "Python 3"
  }
 },
 "cells": [
  {
   "cell_type": "code",
   "execution_count": null,
   "metadata": {},
   "outputs": [],
   "source": [
    "#################################################\n",
    "#Prac 05 file 1 - COMP1050\n",
    "#################################################\n",
    "# We ahve some extra help files in the resources section on iLearn to help with some Pyton code\n",
    "# Go down to the bottom of this file. We have 3 team \"challenges\" for you to complete\n",
    "\n",
    "# In this file we are getting you to use the following concepts in Python\n",
    "# expressions\n",
    "# if statements\n",
    "# loops\n",
    "# ranges\n",
    "# lists\n",
    "# functions\n",
    "\n"
   ]
  },
  {
   "cell_type": "code",
   "execution_count": null,
   "metadata": {},
   "outputs": [],
   "source": [
    "#################################################\n",
    "# Challenge 1 - valid dates between 1900 and 2000\n",
    "#################################################\n",
    "\n",
    "# following on from James' testing lecture on Friday, lets look at a small exmaple using his Valid Date scenario...\n",
    "# Think if you are given a day, month and year. \n",
    "# Your job as a group is to check if it is a valid date in the years between 1900 and 1999 inclusive. All other dates are outsid of bounds for this task.\n",
    "\n",
    "#variables being used:\n",
    "day = 1\n",
    "month = 1\n",
    "year = 1900\n",
    "# you can edit the values above and rerun the code to test different dates (or non-dates)\n",
    "\n",
    "isValid1900sDate = True\n",
    "if (type(day) is not int) or (type(month) is not int) or (type(year) is not int):\n",
    "    isValid1900sDate = False\n",
    "elif year < 1900 or year > 1999:\n",
    "    isValid1900sDate = False\n",
    "elif month < 1 or month > 12:\n",
    "    isValid1900sDate = False\n",
    "\n",
    "\n",
    "# TODO: add more elif conditions above this line to rule out other invalid date combinations... change the day, month and year values to do some testing when you rerun this code block\n",
    "# remember to document your discussions in your COMP1050 prac workbook\n",
    "\n",
    "print(\"The statement that \" + str(day) + \"/\" + str(month) + \"/\" + str(year) + \" is a valid year in the 20th century is \" + str(isValid1900sDate))\n",
    "\n"
   ]
  },
  {
   "cell_type": "code",
   "execution_count": null,
   "metadata": {},
   "outputs": [],
   "source": [
    "\n",
    "\n",
    "\n",
    "#blank space\n",
    "\n",
    "\n"
   ]
  },
  {
   "cell_type": "code",
   "execution_count": null,
   "metadata": {},
   "outputs": [],
   "source": [
    "#################################################\n",
    "# Challenge 2 - make your code reusable\n",
    "#################################################\n",
    "# add your additions into the funtion below \n",
    "# (beware of tabs!)\n",
    "\n",
    "def isValid1900sDate(day, month, year):\n",
    "    isValid1900sDate = True\n",
    "    if (type(day) is not int) or (type(month) is not int) or (type(year) is not int):\n",
    "        isValid1900sDate = False\n",
    "    elif year < 1900 or year > 1999:\n",
    "        isValid1900sDate = False\n",
    "    elif month < 1 or month > 12:\n",
    "        isValid1900sDate = False\n",
    "    #TODO: add your other code in here .   <<<-------------\n",
    "\n",
    "    return isValid1900sDate\n",
    "\n",
    "\n",
    "#here are a couple of tests to make sure the function prints things out.\n",
    "print( str( isValid1900sDate(1,1,1990) ) )\n",
    "print( str( isValid1900sDate(1,1,1700) ) )"
   ]
  },
  {
   "cell_type": "code",
   "execution_count": null,
   "metadata": {},
   "outputs": [],
   "source": [
    "\n",
    "\n",
    "\n",
    "#blank space\n",
    "\n",
    "\n"
   ]
  },
  {
   "cell_type": "code",
   "execution_count": null,
   "metadata": {},
   "outputs": [],
   "source": [
    "#################################################\n",
    "#Challenge 3\n",
    "#################################################\n",
    "# Use a for loop to go through each test date given in the list of test dates below.\n",
    "# Use your function from above to see if each is a valid 1900s date... \n",
    "# do not edit the test_dates list.\n",
    "\n",
    "test_dates = [\n",
    "[ 1, 1, 1900],      #this should be True\n",
    "[ 1, 1, 2000],      #this should be False   \n",
    "[ 1.0, 1, 1900],    #this should be False\n",
    "[ 1, 1.0, 1900],    #this should be False\n",
    "[ 1, 1, 1900.5],    #this should be False\n",
    "[31, 1, 1980],      #this should be True\n",
    "[31, 4, 1980],      #this should be False (why?)\n",
    "[31, 11, 1980],     #this should be False (why?)\n",
    "[ 29, 2, 1996],     #this should be True\n",
    "[ 29, 2, 1904],     #this should be True\n",
    "[ 29, 2, 1900],     #this should be False (why?)\n",
    "]\n",
    "\n",
    "#TODO: add your for loop below to call your function and then print the results\n",
    "#The list above is a list of lists. The \"inner\" list has 3 items representing day month and year.\n"
   ]
  },
  {
   "cell_type": "code",
   "execution_count": null,
   "metadata": {},
   "outputs": [],
   "source": []
  }
 ]
}